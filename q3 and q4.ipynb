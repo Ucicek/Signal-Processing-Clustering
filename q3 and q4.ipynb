{
 "cells": [
  {
   "cell_type": "code",
   "execution_count": 2,
   "metadata": {},
   "outputs": [],
   "source": [
    "import pickle\n",
    "import os\n",
    "import matplotlib.pyplot as plt\n",
    "import numpy as np\n",
    "import os \n",
    "from sklearn.neighbors import KNeighborsClassifier\n",
    "from scipy.signal import find_peaks"
   ]
  },
  {
   "cell_type": "code",
   "execution_count": 3,
   "metadata": {},
   "outputs": [
    {
     "name": "stdout",
     "output_type": "stream",
     "text": [
      "{'ecg': array([-0.13249 , -0.13264 , -0.13268 , ..., -0.037058, -0.024631,\n",
      "       -0.011471]), 'indices': array([  352,   450,   685,   726,   821,  1048,  1087,  1183,  1408,\n",
      "        1449,  1550,  1788,  1830,  1933,  2155,  2199,  2301,  2530,\n",
      "        2572,  2672,  2878,  2920,  3015,  3195,  3235,  3331,  3531,\n",
      "        3572,  3674,  3891,  3932,  4037,  4243,  4283,  4385,  4575,\n",
      "        4613,  4714,  4911,  4948,  5043,  5217,  5256,  5352,  5521,\n",
      "        5559,  5657,  5824,  5864,  5969,  6137,  6175,  6277,  6434,\n",
      "        6473,  6580,  6719,  6758,  6860,  7008,  7046,  7143,  7302,\n",
      "        7337,  7431,  7581,  7617,  7710,  7859,  7898,  7994,  8144,\n",
      "        8184,  8279,  8437,  8476,  8577,  8723,  8759,  8856,  8989,\n",
      "        9026,  9118,  9236,  9272,  9364,  9481,  9518,  9610,  9731,\n",
      "        9770,  9863, 10002, 10040, 10138, 10276, 10316, 10414, 10543,\n",
      "       10584, 10682, 10845, 10886, 10984, 11207, 11246, 11345, 11551,\n",
      "       11590, 11687, 11898, 11936, 12034, 12249, 12288, 12387, 12609,\n",
      "       12651, 12755, 12964, 13003, 13103, 13283, 13320, 13415, 13581,\n",
      "       13618, 13711, 13883, 13919, 14014, 14193, 14228, 14327, 14527,\n",
      "       14565, 14668, 14866, 14904, 15004, 15195, 15232, 15332, 15526,\n",
      "       15562, 15661, 15864, 15901]), 'labels': array([1, 3, 2, 1, 3, 2, 1, 3, 2, 1, 3, 2, 1, 3, 2, 1, 3, 2, 1, 3, 2, 1,\n",
      "       3, 2, 1, 3, 2, 1, 3, 2, 1, 3, 2, 1, 3, 2, 1, 3, 2, 1, 3, 2, 1, 3,\n",
      "       2, 1, 3, 2, 1, 3, 2, 1, 3, 2, 1, 3, 2, 1, 3, 2, 1, 3, 2, 1, 3, 2,\n",
      "       1, 3, 2, 1, 3, 2, 1, 3, 2, 1, 3, 2, 1, 3, 2, 1, 3, 2, 1, 3, 2, 1,\n",
      "       3, 2, 1, 3, 2, 1, 3, 2, 1, 3, 2, 1, 3, 2, 1, 3, 2, 1, 3, 2, 1, 3,\n",
      "       2, 1, 3, 2, 1, 3, 2, 1, 3, 2, 1, 3, 2, 1, 3, 2, 1, 3, 2, 1, 3, 2,\n",
      "       1, 3, 2, 1, 3, 2, 1, 3, 2, 1, 3, 2, 1, 3, 2, 1])}\n"
     ]
    }
   ],
   "source": [
    "if os.path.getsize('/Users/utkucicek/Desktop/bme 261/peak-data.pkl')> 0 :\n",
    "    with open('/Users/utkucicek/Desktop/bme 261/peak-data.pkl', 'rb') as file:\n",
    "        loaded = pickle.load(file)\n",
    "print(loaded)\n",
    "\n",
    "# print(loaded['ecg'])"
   ]
  },
  {
   "cell_type": "code",
   "execution_count": 4,
   "metadata": {},
   "outputs": [
    {
     "name": "stdout",
     "output_type": "stream",
     "text": [
      "(16200,)\n",
      "(148,)\n"
     ]
    },
    {
     "data": {
      "text/plain": [
       "(148,)"
      ]
     },
     "execution_count": 4,
     "metadata": {},
     "output_type": "execute_result"
    }
   ],
   "source": [
    "ecg = np.array(loaded['ecg'])\n",
    "indices = np.array(loaded['indices'])\n",
    "labels = np.array(loaded['labels'])\n",
    "print(ecg.shape)\n",
    "print(indices.shape)\n",
    "labels.shape\n"
   ]
  },
  {
   "cell_type": "code",
   "execution_count": 5,
   "metadata": {},
   "outputs": [
    {
     "name": "stdout",
     "output_type": "stream",
     "text": [
      "(16200,)\n"
     ]
    },
    {
     "data": {
      "text/plain": [
       "(16200,)"
      ]
     },
     "execution_count": 5,
     "metadata": {},
     "output_type": "execute_result"
    }
   ],
   "source": [
    "fs = 360\n",
    "T = 45\n",
    "time = np.linspace(0, T, fs * T)\n",
    "signal = ecg[:fs * T]\n",
    "signal = np.array(signal)\n",
    "print(time.shape) \n",
    "signal.shape"
   ]
  },
  {
   "cell_type": "code",
   "execution_count": 6,
   "metadata": {},
   "outputs": [
    {
     "data": {
      "text/plain": [
       "Text(0, 0.5, 'signal (mV)')"
      ]
     },
     "execution_count": 6,
     "metadata": {},
     "output_type": "execute_result"
    },
    {
     "data": {
      "image/png": "[encoded data removed]",
      "text/plain": [
       "<Figure size 432x288 with 1 Axes>"
      ]
     },
     "metadata": {
      "needs_background": "light"
     },
     "output_type": "display_data"
    }
   ],
   "source": [
    "plt.plot(time,signal)\n",
    "plt.xlabel('time (s)')\n",
    "plt.ylabel('signal (mV)')"
   ]
  },
  {
   "cell_type": "code",
   "execution_count": 7,
   "metadata": {},
   "outputs": [
    {
     "data": {
      "text/plain": [
       "array([  352,   450,   685,   726,   821,  1048,  1087,  1183,  1408,\n",
       "        1449,  1550,  1788,  1830,  1933,  2155,  2199,  2301,  2530,\n",
       "        2572,  2672,  2878,  2920,  3015,  3195,  3235,  3331,  3531,\n",
       "        3572,  3674,  3891,  3932,  4037,  4243,  4283,  4385,  4575,\n",
       "        4613,  4714,  4911,  4948,  5043,  5217,  5256,  5352,  5521,\n",
       "        5559,  5657,  5824,  5864,  5969,  6137,  6175,  6277,  6434,\n",
       "        6473,  6580,  6719,  6758,  6860,  7008,  7046,  7143,  7302,\n",
       "        7337,  7431,  7581,  7617,  7710,  7859,  7898,  7994,  8144,\n",
       "        8184,  8279,  8437,  8476,  8577,  8723,  8759,  8856,  8989,\n",
       "        9026,  9118,  9236,  9272,  9364,  9481,  9518,  9610,  9731,\n",
       "        9770,  9863, 10002, 10040, 10138, 10276, 10316, 10414, 10543,\n",
       "       10584, 10682, 10845, 10886, 10984, 11207, 11246, 11345, 11551,\n",
       "       11590, 11687, 11898, 11936, 12034, 12249, 12288, 12387, 12609,\n",
       "       12651, 12755, 12964, 13003, 13103, 13283, 13320, 13415, 13581,\n",
       "       13618, 13711, 13883, 13919, 14014, 14193, 14228, 14327, 14527,\n",
       "       14565, 14668, 14866, 14904, 15004, 15195, 15232, 15332, 15526,\n",
       "       15562, 15661, 15864, 15901])"
      ]
     },
     "execution_count": 7,
     "metadata": {},
     "output_type": "execute_result"
    }
   ],
   "source": [
    "indices"
   ]
  },
  {
   "cell_type": "code",
   "execution_count": 8,
   "metadata": {},
   "outputs": [],
   "source": [
    "def t_waves(signals):\n",
    "   peaks=find_peaks(signals, height=[0.1,1], distance=210)\n",
    "   height = peaks[1]['peak_heights']\n",
    "   peak_pos =time[peaks[0]]\n",
    "   return peak_pos,height"
   ]
  },
  {
   "cell_type": "code",
   "execution_count": 9,
   "metadata": {},
   "outputs": [],
   "source": [
    "def p_waves(signals):\n",
    "   peaks=find_peaks(signals, height=[-1,0.3], distance=240)\n",
    "   height = peaks[1]['peak_heights']\n",
    "   peak_pos =time[peaks[0]]\n",
    "   return peak_pos,height"
   ]
  },
  {
   "cell_type": "code",
   "execution_count": 10,
   "metadata": {},
   "outputs": [],
   "source": [
    "def r_waves(signals):\n",
    "   peaks=find_peaks(signals, height=[1.0,5], distance=210)\n",
    "   height = peaks[1]['peak_heights']\n",
    "   peak_pos =time[peaks[0]]\n",
    "   return peak_pos,height"
   ]
  },
  {
   "cell_type": "code",
   "execution_count": 11,
   "metadata": {},
   "outputs": [],
   "source": [
    "peak_pos_t, height_t = t_waves(ecg)\n",
    "peak_pos_r, height_r = r_waves(ecg)\n",
    "peak_pos_p, height_p = p_waves(ecg)\n"
   ]
  },
  {
   "cell_type": "code",
   "execution_count": 12,
   "metadata": {},
   "outputs": [
    {
     "data": {
      "text/plain": [
       "49"
      ]
     },
     "execution_count": 12,
     "metadata": {},
     "output_type": "execute_result"
    }
   ],
   "source": [
    "len(peak_pos_p)"
   ]
  },
  {
   "cell_type": "code",
   "execution_count": 13,
   "metadata": {},
   "outputs": [
    {
     "data": {
      "text/plain": [
       "Text(0, 0.5, 'signal (mV)')"
      ]
     },
     "execution_count": 13,
     "metadata": {},
     "output_type": "execute_result"
    },
    {
     "data": {
      "image/png": "[encoded data removed]",
      "text/plain": [
       "<Figure size 432x288 with 1 Axes>"
      ]
     },
     "metadata": {
      "needs_background": "light"
     },
     "output_type": "display_data"
    }
   ],
   "source": [
    "plt.plot(time,signal)\n",
    "plt.scatter(peak_pos_p, height_p, marker='x', color='red')\n",
    "plt.xlabel('time (s)')\n",
    "plt.ylabel('signal (mV)')\n"
   ]
  },
  {
   "cell_type": "code",
   "execution_count": 14,
   "metadata": {},
   "outputs": [],
   "source": [
    "distance_r =[]\n",
    "for i,(r,t) in enumerate(zip(height_r,height_t)):\n",
    "    if i == 49:\n",
    "        break\n",
    "    dist = t - r\n",
    "    distance_r.append(dist)\n",
    "distance_p =[]\n",
    "for i,(t,p) in enumerate(zip(height_t,height_p)):\n",
    "    if i == 48:\n",
    "        break\n",
    "    dist = p - t\n",
    "    distance_p.append(dist)\n",
    "distance_t =[]\n",
    "for i,(r,p) in enumerate(zip(height_r,height_p)):\n",
    "    if i == 49:\n",
    "        break\n",
    "    dist = r - p\n",
    "    distance_t.append(dist)\n",
    "    "
   ]
  },
  {
   "cell_type": "code",
   "execution_count": 15,
   "metadata": {},
   "outputs": [
    {
     "name": "stdout",
     "output_type": "stream",
     "text": [
      "48\n",
      "49\n",
      "49\n"
     ]
    }
   ],
   "source": [
    "print(len(distance_p))\n",
    "print(len(distance_t))\n",
    "print(len(distance_r))"
   ]
  },
  {
   "cell_type": "code",
   "execution_count": 16,
   "metadata": {},
   "outputs": [],
   "source": [
    "# summation = 0\n",
    "# for index,i in enumerate(peak_pos_r):\n",
    "#     if index ==49:\n",
    "#         break\n",
    "#     summation += peak_pos_r[index+1] - peak_pos_r[index] \n",
    "#     r_mean = summation/index\n",
    "# summation = 0\n",
    "# for index,i in enumerate(peak_pos_t):\n",
    "#     if index ==49:\n",
    "#         break\n",
    "#     summation = peak_pos_t[index+1] - peak_pos_t[index] \n",
    "#     t_mean = summation/index\n",
    "# summation = 0\n",
    "# for index,i in enumerate(peak_pos_p):\n",
    "#     if index ==48:\n",
    "#         break\n",
    "#     summation += peak_pos_p[index+1] - peak_pos_p[index] \n",
    "#     p_mean = summation/index"
   ]
  },
  {
   "cell_type": "code",
   "execution_count": 17,
   "metadata": {},
   "outputs": [],
   "source": [
    "# r=[]\n",
    "# t=[]\n",
    "# p=[]\n",
    "\n",
    "# for index,i in enumerate(peak_pos_r):\n",
    "#     if index ==49:\n",
    "#         break\n",
    "#     summation = peak_pos_r[index+1] - peak_pos_r[index] \n",
    "#     r.append(summation)\n",
    "# for index,i in enumerate(peak_pos_t):\n",
    "#     if index ==49:\n",
    "#         break\n",
    "#     summation = peak_pos_t[index+1] - peak_pos_t[index] \n",
    "#     t.append(summation)\n",
    "# summation = 0\n",
    "# for index,i in enumerate(peak_pos_p):\n",
    "#     if index ==48:\n",
    "#         break\n",
    "#     summation = peak_pos_p[index+1] - peak_pos_p[index] \n",
    "#     p.append(summation)\n"
   ]
  },
  {
   "cell_type": "code",
   "execution_count": 18,
   "metadata": {},
   "outputs": [],
   "source": [
    "\n",
    "tr,tt,tp=[],[],[]\n",
    "for index,i in enumerate(height_r):\n",
    "    if index ==49:\n",
    "        break\n",
    "    tr.append(i)\n",
    "for index,i in enumerate(height_t):\n",
    "    if index ==49:\n",
    "        break\n",
    "    tt.append(i)\n",
    "summation = 0\n",
    "for index,i in enumerate(height_p):\n",
    "    if index ==48:\n",
    "        break\n",
    "    tp.append(i)\n"
   ]
  },
  {
   "cell_type": "code",
   "execution_count": 19,
   "metadata": {},
   "outputs": [
    {
     "data": {
      "text/plain": [
       "numpy.ndarray"
      ]
     },
     "execution_count": 19,
     "metadata": {},
     "output_type": "execute_result"
    }
   ],
   "source": [
    "r = np.array(r)\n",
    "t = np.array(t)\n",
    "p = np.array(p)\n",
    "type(r)"
   ]
  },
  {
   "cell_type": "markdown",
   "metadata": {},
   "source": [
    "The difference between amplitudes were used in order to differentiate one from another"
   ]
  },
  {
   "cell_type": "code",
   "execution_count": null,
   "metadata": {},
   "outputs": [],
   "source": []
  },
  {
   "cell_type": "code",
   "execution_count": 20,
   "metadata": {},
   "outputs": [
    {
     "data": {
      "text/plain": [
       "Text(0.5, 0, 'Vertical Distance Difference')"
      ]
     },
     "execution_count": 20,
     "metadata": {},
     "output_type": "execute_result"
    },
    {
     "data": {
      "image/png": "[encoded data removed]",
      "text/plain": [
       "<Figure size 432x288 with 1 Axes>"
      ]
     },
     "metadata": {
      "needs_background": "light"
     },
     "output_type": "display_data"
    }
   ],
   "source": [
    "plt.scatter(distance_r,tr, color='red')\n",
    "plt.scatter(distance_t,tt, color='green')\n",
    "plt.scatter(distance_p,tp, color='pink')\n",
    "plt.ylabel(\"Amplitude\")\n",
    "plt.xlabel(\"Vertical Distance Difference\")"
   ]
  },
  {
   "cell_type": "code",
   "execution_count": null,
   "metadata": {},
   "outputs": [],
   "source": [
    "distance_r =[]\n",
    "for i,(r,t) in enumerate(zip(height_r,height_t)):\n",
    "    if i == 49:\n",
    "        break\n",
    "    dist = t - r\n",
    "    distance_r.append(dist)\n",
    "distance_p =[]\n",
    "for i,(t,p) in enumerate(zip(height_t,height_p)):\n",
    "    if i == 48:\n",
    "        break\n",
    "    dist = p - t\n",
    "    distance_p.append(dist)\n",
    "distance_t =[]\n",
    "for i,(r,p) in enumerate(zip(height_r,height_p)):\n",
    "    if i == 49:\n",
    "        break\n",
    "    dist = r - p\n",
    "    distance_t.append(dist)\n",
    "    "
   ]
  },
  {
   "cell_type": "markdown",
   "metadata": {},
   "source": [
    "**QUESTION 4**"
   ]
  },
  {
   "cell_type": "code",
   "execution_count": 28,
   "metadata": {},
   "outputs": [
    {
     "data": {
      "text/plain": [
       "[<matplotlib.lines.Line2D at 0x12a231ee0>]"
      ]
     },
     "execution_count": 28,
     "metadata": {},
     "output_type": "execute_result"
    },
    {
     "data": {
      "image/png": "[encoded data removed]",
      "text/plain": [
       "<Figure size 432x288 with 1 Axes>"
      ]
     },
     "metadata": {
      "needs_background": "light"
     },
     "output_type": "display_data"
    }
   ],
   "source": [
    "plt.scatter(distance_r,tr, color='red')\n",
    "plt.scatter(distance_t,tt, color='green')\n",
    "plt.scatter(distance_p,tp, color='pink')\n",
    "plt.ylabel(\"Amplitude\")\n",
    "plt.xlabel(\"Vertical Distance Difference\")\n",
    "y = (1/20)*time\n",
    "x = np.linspace(-2,2,16200)\n",
    "plt.plot(x,y)"
   ]
  },
  {
   "cell_type": "code",
   "execution_count": null,
   "metadata": {},
   "outputs": [],
   "source": [
    "\n"
   ]
  },
  {
   "cell_type": "code",
   "execution_count": 32,
   "metadata": {},
   "outputs": [
    {
     "data": {
      "text/plain": [
       "[<matplotlib.lines.Line2D at 0x12aa0ce20>]"
      ]
     },
     "execution_count": 32,
     "metadata": {},
     "output_type": "execute_result"
    },
    {
     "data": {
      "image/png": "[encoded data removed]",
      "text/plain": [
       "<Figure size 432x288 with 1 Axes>"
      ]
     },
     "metadata": {
      "needs_background": "light"
     },
     "output_type": "display_data"
    }
   ],
   "source": [
    "plt.scatter(distance_r,tr, color='red')\n",
    "plt.scatter(distance_t,tt, color='green')\n",
    "plt.scatter(distance_p,tp, color='green')\n",
    "plt.ylabel(\"Amplitude\")\n",
    "plt.xlabel(\"Vertical Distance Difference\")\n",
    "y = (1/20)*time\n",
    "x = np.linspace(-2,2,16200)\n",
    "plt.plot(x,y)"
   ]
  },
  {
   "cell_type": "markdown",
   "metadata": {},
   "source": [
    "This can also be done with svms"
   ]
  },
  {
   "cell_type": "code",
   "execution_count": 55,
   "metadata": {},
   "outputs": [
    {
     "name": "stdout",
     "output_type": "stream",
     "text": [
      "0.2764581802297385\n",
      "-1.8367218490031043\n"
     ]
    },
    {
     "name": "stderr",
     "output_type": "stream",
     "text": [
      "/Library/Frameworks/Python.framework/Versions/3.9/lib/python3.9/site-packages/sklearn/utils/validation.py:63: DataConversionWarning: A column-vector y was passed when a 1d array was expected. Please change the shape of y to (n_samples, ), for example using ravel().\n",
      "  return f(*args, **kwargs)\n"
     ]
    },
    {
     "data": {
      "image/png": "[encoded data removed]",
      "text/plain": [
       "<Figure size 576x288 with 1 Axes>"
      ]
     },
     "metadata": {
      "needs_background": "light"
     },
     "output_type": "display_data"
    }
   ],
   "source": [
    "from sklearn import svm\n",
    "import numpy as np\n",
    "import matplotlib.pyplot as plt\n",
    "\n",
    "X = []\n",
    "Y = []\n",
    "for x,y in zip(distance_r, tr):\n",
    "    X.append((x,y))\n",
    "    Y.append([1])\n",
    "\n",
    "for x,y in zip(distance_p, tp):\n",
    "    X.append((x,y))\n",
    "    Y.append([0])\n",
    "\n",
    "for x,y in zip(distance_t, tt):\n",
    "    X.append((x,y))\n",
    "    Y.append([0])\n",
    "\n",
    "X = np.array(X)\n",
    "Y = np.array(Y)\n",
    "\n",
    "# fit the model\n",
    "clf = svm.SVC(kernel='linear', C=1000) # C is important here\n",
    "clf.fit(X, Y)\n",
    "plt.figure(figsize=(8, 4))\n",
    "# get the separating hyperplane\n",
    "w = clf.coef_[0]\n",
    "a = -w[0] / w[1]\n",
    "xx = np.linspace(-2, 2, 1000)\n",
    "yy = a * xx - (clf.intercept_[0]) / w[1]\n",
    "plt.figure(1, figsize=(4, 3))\n",
    "plt.clf()\n",
    "plt.plot(xx, yy, \"k-\") #********* This is the separator line ************\n",
    "print(a)\n",
    "print(clf.intercept_[0])\n",
    "colors = ['blue','red']\n",
    "used_colors = []\n",
    "for val in Y:\n",
    "    used_colors.append(colors[val[0]])\n",
    "plt.scatter(X[:, 0], X[:, 1], c=used_colors)\n",
    "plt.show()"
   ]
  }
 ],
 "metadata": {
  "interpreter": {
   "hash": "aee8b7b246df8f9039afb4144a1f6fd8d2ca17a180786b69acc140d282b71a49"
  },
  "kernelspec": {
   "display_name": "Python 3.9.1 64-bit",
   "language": "python",
   "name": "python3"
  },
  "language_info": {
   "codemirror_mode": {
    "name": "ipython",
    "version": 3
   },
   "file_extension": ".py",
   "mimetype": "text/x-python",
   "name": "python",
   "nbconvert_exporter": "python",
   "pygments_lexer": "ipython3",
   "version": "3.9.1"
  },
  "orig_nbformat": 4
 },
 "nbformat": 4,
 "nbformat_minor": 2
}
